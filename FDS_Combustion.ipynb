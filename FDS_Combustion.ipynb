{
 "cells": [
  {
   "cell_type": "markdown",
   "metadata": {},
   "source": [
    "# Chemical equation balancer"
   ]
  },
  {
   "cell_type": "code",
   "execution_count": null,
   "metadata": {},
   "outputs": [],
   "source": [
    "import sys\n",
    "import re\n",
    "import numpy as np"
   ]
  },
  {
   "cell_type": "markdown",
   "metadata": {},
   "source": [
    "**a** C + **b** F<sub>2</sub>O<sub>2</sub> &#8594; **c** Fe + **d** CO<sub>2</sub>\n",
    "\n",
    "C: **a** = **d**\n",
    "\n",
    "Fe: **2b** = **c**\n",
    "\n",
    "O: **3b** = **2d**\n",
    "\n",
    "Annahme a = 1"
   ]
  },
  {
   "cell_type": "code",
   "execution_count": 2,
   "metadata": {},
   "outputs": [],
   "source": [
    "M = np.array ([[1, 0, 0,-1],\n",
    "               [0, 2,-1, 0],\n",
    "               [0, 3, 0,-2],\n",
    "               [1, 0, 0, 0]], dtype=float)"
   ]
  },
  {
   "cell_type": "code",
   "execution_count": 3,
   "metadata": {},
   "outputs": [],
   "source": [
    "v = np.array([ 0, 0, 0, 1],dtype=float)"
   ]
  },
  {
   "cell_type": "code",
   "execution_count": 4,
   "metadata": {},
   "outputs": [],
   "source": [
    "x = np.linalg.solve(M, v)"
   ]
  },
  {
   "cell_type": "code",
   "execution_count": 5,
   "metadata": {},
   "outputs": [
    {
     "name": "stdout",
     "output_type": "stream",
     "text": [
      "1.00 C + 0.67 F₂ O₂ -> 1.33 Fe + 1.00 CO₂\n"
     ]
    }
   ],
   "source": [
    "print('{0:.2f} C + {1:.2f} F\\u2082 O\\u2082 -> {2:.2f} Fe + {3:.2f} CO\\u2082'.format(x[0],x[1],x[2],x[3]))"
   ]
  },
  {
   "cell_type": "markdown",
   "metadata": {},
   "source": [
    "**a** H<sub>8</sub>C<sub>6</sub>O<sub>7</sub> + **b** CaCO<sub>3</sub> &#8594; **c** Ca<sub>3</sub> (H<sub>5</sub>C<sub>6</sub>O<sub>7</sub>)<sub>2</sub> + **d** CO<sub>2</sub> + **e** H<sub>2</sub> O\n",
    "\n",
    "H: **8a** = **10c** + **2e**\n",
    "\n",
    "C: **6a** + **b** = **12c** + **d**\n",
    "\n",
    "O: **7a** + **3b** = **14c** + **2d** + **e**\n",
    "\n",
    "Ca: **b** = **3c**\n",
    "\n",
    "Annahme: a = 2\n",
    "\n",
    "Lösung: a=2; b=3; c=1; d=3; e=3"
   ]
  },
  {
   "cell_type": "code",
   "execution_count": 6,
   "metadata": {},
   "outputs": [],
   "source": [
    "M2 = np.array ([[8, 0,-10, 0,-2],\n",
    "                [6, 1,-12,-1, 0],\n",
    "                [7, 3,-14,-2,-1],\n",
    "                [0, 1, -3, 0, 0],\n",
    "                [1, 0,  0, 0, 0]], dtype=float)"
   ]
  },
  {
   "cell_type": "code",
   "execution_count": 7,
   "metadata": {},
   "outputs": [],
   "source": [
    "v2 = np.array([ 0, 0, 0, 0, 2],dtype=float)"
   ]
  },
  {
   "cell_type": "code",
   "execution_count": 8,
   "metadata": {},
   "outputs": [],
   "source": [
    "x2 = np.linalg.solve(M2, v2)"
   ]
  },
  {
   "cell_type": "code",
   "execution_count": 9,
   "metadata": {},
   "outputs": [
    {
     "name": "stdout",
     "output_type": "stream",
     "text": [
      "a=2.00; b=3.00; c=1.00; d=3.00; e=3.00\n"
     ]
    }
   ],
   "source": [
    "print('a={0:.2f}; b={1:.2f}; c={2:.2f}; d={3:.2f}; e={4:.2f}'.format(x2[0],x2[1],x2[2],x2[3],x2[4]))"
   ]
  },
  {
   "cell_type": "markdown",
   "metadata": {},
   "source": [
    "**a** NaOH + **b** Cl<sub>2</sub> &#8594; **c** NaClO + **d** NaCl + **e** H<sub>2</sub>O\n",
    "\n",
    "Na: **a** = **c** + **d**\n",
    "\n",
    "O:  **a** = **c** + **e**\n",
    "\n",
    "H:  **a** = **2e**\n",
    "\n",
    "Cl: **2b** = **c** + **d**\n",
    "\n",
    "Annahme: a = 1, erweitert mit 2 -> a=2\n",
    "\n",
    "Lösung: a=2, b=1, c=1, d=1, e=1\n"
   ]
  },
  {
   "cell_type": "code",
   "execution_count": 10,
   "metadata": {},
   "outputs": [],
   "source": [
    "#                a  b  c  d  e\n",
    "M3 = np.array ([[1, 0,-1,-1, 0],\n",
    "                [1, 0,-1, 0,-1],\n",
    "                [1, 0, 0, 0,-2],\n",
    "                [0, 2,-1,-1, 0],\n",
    "                [1, 0, 0, 0, 0]], dtype=float)"
   ]
  },
  {
   "cell_type": "code",
   "execution_count": 11,
   "metadata": {},
   "outputs": [],
   "source": [
    "v3 = np.array([ 0, 0, 0, 0, 2],dtype=float)"
   ]
  },
  {
   "cell_type": "code",
   "execution_count": 12,
   "metadata": {},
   "outputs": [],
   "source": [
    "x3 = np.linalg.solve(M3, v3)"
   ]
  },
  {
   "cell_type": "code",
   "execution_count": 13,
   "metadata": {},
   "outputs": [
    {
     "name": "stdout",
     "output_type": "stream",
     "text": [
      "a=2.00; b=1.00; c=1.00; d=1.00; e=1.00\n"
     ]
    }
   ],
   "source": [
    "print('a={0:.2f}; b={1:.2f}; c={2:.2f}; d={3:.2f}; e={4:.2f}'.format(x3[0],x3[1],x3[2],x3[3],x3[4]))"
   ]
  },
  {
   "cell_type": "markdown",
   "metadata": {},
   "source": [
    "Herstellung von Iod\n",
    "\n",
    "**a** NaIO<sub>3</sub> + **b** H<sub>2</sub>O + **c** SO<sub>2</sub> &#8594; **d** Na<sub>2</sub>SO<sub>4</sub> + **e** H<sub>2</sub>SO<sub>4</sub> + **f** I<sub>2</sub>\n",
    "\n",
    "Na: **a** = **2d**\n",
    "\n",
    "J: **a** = **2f**\n",
    "\n",
    "O: **3a** + **b** + **2c** = **4d** + **4e**\n",
    "\n",
    "H: **2b** = **2e**\n",
    "\n",
    "S: **c** = **d** + **e**\n",
    "\n",
    "Annahme: a =1\n",
    "\n",
    "Lösung: a=2; b=4; c=5; d=1; e=4; f=1"
   ]
  },
  {
   "cell_type": "code",
   "execution_count": 14,
   "metadata": {},
   "outputs": [],
   "source": [
    "#                a  b  c  d  e  f\n",
    "M4 = np.array ([[1, 0, 0,-2, 0, 0],\n",
    "                [1, 0, 0, 0, 0,-2],\n",
    "                [3, 1, 2,-4,-4, 0],\n",
    "                [0, 2, 0, 0,-2, 0],\n",
    "                [0, 0, 1,-1,-1, 0],\n",
    "                [1, 0, 0, 0, 0, 0]], dtype=float)"
   ]
  },
  {
   "cell_type": "code",
   "execution_count": 15,
   "metadata": {},
   "outputs": [],
   "source": [
    "#               f  e  d  c  b  a\n",
    "v4 = np.array([ 0, 0, 0, 0, 0, 2],dtype=float)"
   ]
  },
  {
   "cell_type": "code",
   "execution_count": 16,
   "metadata": {},
   "outputs": [],
   "source": [
    "x4 = np.linalg.solve(M4, v4)"
   ]
  },
  {
   "cell_type": "code",
   "execution_count": 17,
   "metadata": {},
   "outputs": [
    {
     "name": "stdout",
     "output_type": "stream",
     "text": [
      "a=2.00; b=4.00; c=5.00; d=1.00; e=4.00; f=1.00\n"
     ]
    }
   ],
   "source": [
    "print('a={0:.2f}; b={1:.2f}; c={2:.2f}; d={3:.2f}; e={4:.2f}; f={5:.2f}'.format(x4[0],x4[1],x4[2],x4[3],x4[4],x4[5]))"
   ]
  },
  {
   "cell_type": "markdown",
   "metadata": {},
   "source": [
    "Verbrennung von Methan\n",
    "\n",
    "**a** CH<sub>4</sub> + **b** O<sub>2</sub> &#8594; **c** CO<sub>2</sub> + **D** H<sub>2</sub>O<sub>\n",
    "\n",
    "C: **a** = **c**\n",
    "\n",
    "H: **4a** = **2d**\n",
    "\n",
    "O: **2b** = **2c** + **d**\n",
    "\n",
    "Annahme: a = 1\n",
    "\n",
    "Lösung: a=1; b=2; c=1; d=2"
   ]
  },
  {
   "cell_type": "code",
   "execution_count": 18,
   "metadata": {},
   "outputs": [],
   "source": [
    "M5 = np.array ([[1, 0,-1, 0],\n",
    "                [4, 0, 0,-2],\n",
    "                [0, 2,-2,-1],\n",
    "                [1, 0, 0, 0]], dtype=float)"
   ]
  },
  {
   "cell_type": "code",
   "execution_count": 19,
   "metadata": {},
   "outputs": [],
   "source": [
    "v5 = np.array([0,0,0,1], dtype=float)"
   ]
  },
  {
   "cell_type": "code",
   "execution_count": 20,
   "metadata": {},
   "outputs": [],
   "source": [
    "x5 = np.linalg.solve(M5, v5)"
   ]
  },
  {
   "cell_type": "code",
   "execution_count": 21,
   "metadata": {},
   "outputs": [
    {
     "name": "stdout",
     "output_type": "stream",
     "text": [
      "a=1.00; b=2.00; c=1.00; d=2.00\n"
     ]
    }
   ],
   "source": [
    "print('a={0:.2f}; b={1:.2f}; c={2:.2f}; d={3:.2f}'.format(x5[0],x5[1],x5[2],x5[3]))"
   ]
  },
  {
   "cell_type": "markdown",
   "metadata": {},
   "source": [
    "eq. 12.6 FDS User's Guide (SVN 20596)"
   ]
  },
  {
   "cell_type": "code",
   "execution_count": 22,
   "metadata": {},
   "outputs": [],
   "source": [
    "M6 = np.array ([[1, 0, 0, 0, 1,-1, 0, 0],\n",
    "                [4, 0, 0, 2, 0, 0,-2, 0],\n",
    "                [0, 2, 0, 1, 2,-2,-1, 0],\n",
    "                [0, 0, 2, 0, 0, 0, 0,-2],\n",
    "                [1, 0, 0, 0, 0, 0, 0, 0],\n",
    "                ], dtype=float)"
   ]
  },
  {
   "cell_type": "code",
   "execution_count": 23,
   "metadata": {},
   "outputs": [],
   "source": [
    "v6 = np.array([0, 0, 0, 0, 1], dtype=float)"
   ]
  },
  {
   "cell_type": "code",
   "execution_count": null,
   "metadata": {},
   "outputs": [],
   "source": [
    "x6 = np.linalg.solve(M6, v6)"
   ]
  },
  {
   "cell_type": "markdown",
   "metadata": {},
   "source": [
    "Verbrennung von Dieselöl\n",
    "\n",
    "**a** C<sub>25</sub>H<sub>52</sub> + **b** O<sub>2</sub> &#8594; **c** CO<sub>2</sub> + **d** H<sub>2</sub>O<sub>\n",
    "\n",
    "C: **25a** = **2c**\n",
    "\n",
    "H: **52a** = **2d**\n",
    "\n",
    "O: **2b** = **2c** + **d**\n",
    "\n",
    "Annahme: a = 1"
   ]
  },
  {
   "cell_type": "code",
   "execution_count": 25,
   "metadata": {},
   "outputs": [],
   "source": [
    "M7 = np.array ([[25, 0,-1, 0],\n",
    "                [52, 0, 0,-2],\n",
    "                [0, 2,-2,-1],\n",
    "                [1, 0, 0, 0]], dtype=float)"
   ]
  },
  {
   "cell_type": "code",
   "execution_count": 26,
   "metadata": {},
   "outputs": [],
   "source": [
    "v7 = np.array([0,0,0,1], dtype=float)"
   ]
  },
  {
   "cell_type": "code",
   "execution_count": 27,
   "metadata": {},
   "outputs": [],
   "source": [
    "x7 = np.linalg.solve(M7, v7)"
   ]
  },
  {
   "cell_type": "code",
   "execution_count": 28,
   "metadata": {},
   "outputs": [
    {
     "name": "stdout",
     "output_type": "stream",
     "text": [
      "a=1.00; b=38.00; c=25.00; d=26.00\n"
     ]
    }
   ],
   "source": [
    "print('a={0:.2f}; b={1:.2f}; c={2:.2f}; d={3:.2f}'.format(x7[0],x7[1],x7[2],x7[3]))"
   ]
  },
  {
   "cell_type": "code",
   "execution_count": null,
   "metadata": {},
   "outputs": [],
   "source": [
    "#  ==========================\n",
    "#  = values =\n",
    "#  ==========================\n",
    "\n",
    "input_formula = \"C1H1.4O0.247N0.000668\"\n",
    "input_Y_CO    = 0.03 # input_Y_CO\n",
    "input_Y_s     = 0.09 # soot yield\n",
    "input_X_H     = 0.1   # hydrogen atomic fraction in soot\n",
    "\n",
    "input_O2      = 0.208\n",
    "input_N2      = 0.783\n",
    "input_H2O     = 0.00834\n",
    "input_CO2     = 0.000387\n",
    "input_CO      = 0\n",
    "input_SOOT    = 0\n",
    "\n",
    "formula = input_formula\n",
    "y_s  = input_Y_s   # Y_soot\n",
    "y_CO = input_Y_CO  # Y_CO\n",
    "X_H  = input_X_H   # hydrogen atomic fraction in soot\n",
    "bg_1 = 0.0000      # fuel in air\n",
    "bg_2 = input_O2    # oxygen\n",
    "bg_3 = input_N2    # nitrogen\n",
    "bg_4 = input_H2O   # water H2O\n",
    "bg_5 = input_CO2   # CO2\n",
    "bg_6 = input_CO    # CO \n",
    "bg_7 = input_SOOT  # Soot\n",
    "\n",
    "#  ==========================\n",
    "#  = Parse chemical formula =\n",
    "#  ==========================\n",
    "\n",
    "C, H, O, N = 0, 0, 0, 0\n",
    "\n",
    "# Search for C, H, O, N atoms in formula\n",
    "match = re.search('[cC](\\d+\\.?\\d*)', formula)\n",
    "if match:\n",
    "    C = match.group(1)\n",
    "match = re.search('[hH](\\d+\\.?\\d*)', formula)\n",
    "if match:\n",
    "    H = match.group(1)\n",
    "match = re.search('[oO](\\d+\\.?\\d*)', formula)\n",
    "if match:\n",
    "    O = match.group(1)\n",
    "match = re.search('[nN](\\d+\\.?\\d*)', formula)\n",
    "if match:\n",
    "    N = match.group(1)\n",
    "\n",
    "# If an atom is included with no number following,\n",
    "# then assign it a value of 1\n",
    "if (C == 0) and ('C' in formula):\n",
    "    C = 1\n",
    "if (H == 0) and ('H' in formula):\n",
    "    H = 1\n",
    "if (O == 0) and ('O' in formula):\n",
    "    O = 1\n",
    "if (N == 0) and ('N' in formula):\n",
    "    N = 1\n",
    "\n",
    "# Convert all atom numbers to floats\n",
    "C = float(C)\n",
    "H = float(H)\n",
    "O = float(O)\n",
    "N = float(N)\n",
    "\n",
    "# Throw error if formula does not include C or H\n",
    "if ((C == 0) or (H == 0)):\n",
    "    print(\"C and H must be included in the fuel\")\n",
    "    sys.exit()\n",
    "#  ==========================================\n",
    "#  = Chemical equation balance calculations =\n",
    "#  ==========================================\n",
    "\n",
    "### Based on work on a previous Matlab script by: ###\n",
    "# Randall McDermott\n",
    "# 3-31-11\n",
    "# fds_simple_chemistry.m\n",
    "#\n",
    "# This script is a distilled version of the SIMPLE_CHEMISTRY routine in FDS and may be\n",
    "# used as a check on reaction coefficients for primitive and lumped species.\n",
    "\n",
    "# Molecular weights of C, H, O, N\n",
    "MW_C = 12.0107\n",
    "MW_H = 1.00794\n",
    "MW_O = 15.9994\n",
    "MW_N = 14.0067\n",
    "\n",
    "# define the element matrix (number of atoms [rows] for each primitive species [columns])\n",
    "\n",
    "i_fuel            = 0\n",
    "i_oxygen          = 1\n",
    "i_nitrogen        = 2\n",
    "i_water_vapor     = 3\n",
    "i_carbon_dioxide  = 4\n",
    "i_carbon_monoxide = 5\n",
    "i_soot            = 6\n",
    "\n",
    "E = np.matrix([[C, 0, 0, 0, 1, 1, (1-X_H)],              # C\n",
    "               [H, 0, 0, 2, 0, 0, X_H    ],              # H\n",
    "               [O, 2, 0, 1, 2, 1, 0      ],              # O\n",
    "               [N, 0, 2, 0, 0, 0, 0]     ], dtype=float) # N\n",
    "     \n",
    "MW = np.matrix([MW_C, MW_H, MW_O, MW_N]) # primitive species molecular weights\n",
    "\n",
    "W = E.T * MW.T\n",
    "\n",
    "# define the volume fractions of the background and fuel\n",
    "\n",
    "v_0 = np.matrix([bg_1, bg_2, bg_3, bg_4, bg_5, bg_6, bg_7], dtype=float)\n",
    "v_0 = v_0/np.sum(v_0) # normalize\n",
    "\n",
    "v_1 = np.matrix([1, 0, 0, 0, 0, 0, 0], dtype=float)\n",
    "v_1 = v_1/np.sum(v_1) # normalize\n",
    "\n",
    "# the reaction coefficients for the product primitive species temporarily stored in v_2\n",
    "\n",
    "v_2 = np.matrix([0, 0, 0, 0, 0, 0, 0], dtype=float)\n",
    "\n",
    "# compute what we know so far\n",
    "\n",
    "v_2[0,i_carbon_monoxide] = W.item(i_fuel) / W.item(i_carbon_monoxide) * y_CO\n",
    "v_2[0,i_soot]            = W.item(i_fuel) / W.item(i_soot) * y_s\n",
    "\n",
    "# linear system right hand side\n",
    "\n",
    "b = E * (v_1.T - v_2.T)\n",
    "\n",
    "# matrix\n",
    "\n",
    "L = np.column_stack([E*v_0.T, E[:,i_carbon_dioxide], E[:,i_water_vapor], E[:,i_nitrogen]])\n",
    "\n",
    "# solve the system\n",
    "\n",
    "x = np.linalg.inv(L)*b\n",
    "\n",
    "nu_0                    = x.item(0) # background stoichiometric coefficient\n",
    "v_2.T[i_carbon_dioxide] = x.item(1)\n",
    "v_2.T[i_water_vapor]    = x.item(2)\n",
    "v_2.T[i_nitrogen]       = x.item(3)\n",
    "\n",
    "nu_1 = -1 # fuel stoich coeff\n",
    "nu_2 = np.sum(v_2) # prod stoich coeff\n",
    "\n",
    "v_2 = v_2/nu_2 # normalize volume fractions\n",
    "\n",
    "# display fuel properties\n",
    "\n",
    "Z2Y = np.vstack([v_0, v_1, v_2])\n",
    "\n",
    "Z2Y = Z2Y.T\n",
    "\n",
    "coeff_fuel = Z2Y[0,1] # Fuel\n",
    "\n",
    "coeff_lhs_1 = Z2Y[0,0] # Fuel\n",
    "coeff_lhs_2 = Z2Y[1,0] # O2\n",
    "coeff_lhs_3 = Z2Y[2,0] # N2\n",
    "coeff_lhs_4 = Z2Y[3,0] # H2O\n",
    "coeff_lhs_5 = Z2Y[4,0] # CO2\n",
    "coeff_lhs_6 = Z2Y[5,0] # CO\n",
    "coeff_lhs_7 = Z2Y[6,0] # C\n",
    "\n",
    "coeff_rhs_1 = Z2Y[0,2] # Fuel\n",
    "coeff_rhs_2 = Z2Y[1,2] # O2\n",
    "coeff_rhs_3 = Z2Y[2,2] # N2\n",
    "coeff_rhs_4 = Z2Y[3,2] # H2O\n",
    "coeff_rhs_5 = Z2Y[4,2] # CO2\n",
    "coeff_rhs_6 = Z2Y[5,2] # CO\n",
    "coeff_rhs_7 = Z2Y[6,2] # C\n",
    "\n",
    "if np.min(np.array([coeff_lhs_1, coeff_lhs_2, coeff_lhs_3, coeff_lhs_4, coeff_lhs_5, coeff_lhs_6, coeff_lhs_7,\n",
    "              coeff_rhs_1, coeff_rhs_2, coeff_rhs_3, coeff_rhs_4, coeff_rhs_5, coeff_rhs_6, coeff_rhs_7])) < 0:\n",
    "    print(\"Error: Results inculde negative stoichiometric coefficients\")\n",
    "    sys.exit()"
   ]
  },
  {
   "cell_type": "markdown",
   "metadata": {},
   "source": [
    "### Balanced chemical equation"
   ]
  },
  {
   "cell_type": "code",
   "execution_count": null,
   "metadata": {},
   "outputs": [],
   "source": [
    "print(\"&SPEC ID         = 'FUEL_{0}',\".format(formula))\n",
    "print(\"      FORMULA    = '{0}'/\".format(formula))\n",
    "\n",
    "print(\"\")\n",
    "\n",
    "i = 1\n",
    "if coeff_lhs_2 != 0:\n",
    "    print(\"      SPEC_ID({1}) = 'OXYGEN',         VOLUME_FRACTION({1})={0:.6f},\".format(coeff_lhs_2,i))\n",
    "    i = i+1\n",
    "if coeff_lhs_3 != 0:\n",
    "    print(\"      SPEC_ID({1}) = 'NITROGEN',       VOLUME_FRACTION({1})={0:.6f},\".format(coeff_lhs_3,i))\n",
    "    i = i+1\n",
    "if coeff_lhs_4 != 0:\n",
    "    print(\"      SPEC_ID({1}) = 'WATER VAPOR',    VOLUME_FRACTION({1})={0:.6f},\".format(coeff_lhs_4,i))\n",
    "    i = i+1\n",
    "if coeff_lhs_5 != 0:\n",
    "    print(\"      SPEC_ID({1}) = 'CARBON DIOXIDE', VOLUME_FRACTION({1})={0:.6f},\".format(coeff_lhs_5,i))\n",
    "    i = i+1\n",
    "if coeff_lhs_6 != 0:\n",
    "    print(\"      SPEC_ID({1}) = 'CARBON MONOXIDE', VOLUME_FRACTION({1})={0:.6f},\".format(coeff_lhs_6,i))\n",
    "    i = i+1\n",
    "if coeff_lhs_7 != 0:\n",
    "    print(\"      SPEC_ID({1}) = 'SOOT',           VOLUME_FRACTION({1})={0:.6f},\".format(coeff_lhs_7,i))\n",
    "    i = i+1\n",
    "print(\"      BACKGROUND=.TRUE. /\")\n",
    "\n",
    "print(\"\")\n",
    "\n",
    "print(\"&SPEC ID         = 'PRODUCTS',\")\n",
    "i = 1\n",
    "if coeff_rhs_2 != 0:\n",
    "    print(\"      SPEC_ID({1}) = 'OXYGEN',          VOLUME_FRACTION(1})={0:.6f},\".format(coeff_rhs_2,i))\n",
    "    i = i+1\n",
    "if coeff_rhs_3 != 0:\n",
    "    print(\"      SPEC_ID({1}) = 'NITROGEN',        VOLUME_FRACTION({1})={0:.6f},\".format(coeff_rhs_3,i))\n",
    "    i = i+1\n",
    "if coeff_rhs_4 != 0:\n",
    "    print(\"      SPEC_ID({1}) = 'WATER VAPOR',     VOLUME_FRACTION({1})={0:.6f},\".format(coeff_rhs_4,i))\n",
    "    i = i+1\n",
    "if coeff_rhs_5 != 0:\n",
    "    print(\"      SPEC_ID({1}) = 'CARBON DIOXIDE',  VOLUME_FRACTION({1})={0:.6f},\".format(coeff_rhs_5,i))\n",
    "    i = i+1\n",
    "if coeff_rhs_6 != 0:\n",
    "    print(\"      SPEC_ID({1}) = 'CARBON MONOXIDE', VOLUME_FRACTION({1})={0:.6f},\".format(coeff_rhs_6,i))\n",
    "    i = i+1\n",
    "if coeff_rhs_7 != 0:\n",
    "    print(\"      SPEC_ID({1}) = 'SOOT',            VOLUME_FRACTION({1})={0:.6f},\".format(coeff_rhs_7,i))\n",
    "    i = i+1\n",
    "print(\"/\")\n",
    "print(\"\")\n",
    "print(\"&REAC ID         = 'FUEL_{0}',\".format(formula))\n",
    "print(\"      FUEL       = 'FUEL_{0}',\".format(formula))\n",
    "print(\"      SPEC_ID_NU = 'FUEL_{0}','AIR','PRODUCTS',\".format(formula))\n",
    "print(\"      NU         =-{0:.6f},{1:.6f},{2:.6f},\".format(coeff_fuel,nu_0,nu_2))\n",
    "# ToDo\n",
    "print(\"      HEAT_OF_COMBUSTION = 18700 /\")"
   ]
  },
  {
   "cell_type": "code",
   "execution_count": null,
   "metadata": {},
   "outputs": [],
   "source": []
  }
 ],
 "metadata": {
  "kernelspec": {
   "display_name": "Python 3 (ipykernel)",
   "language": "python",
   "name": "python3"
  },
  "language_info": {
   "codemirror_mode": {
    "name": "ipython",
    "version": 3
   },
   "file_extension": ".py",
   "mimetype": "text/x-python",
   "name": "python",
   "nbconvert_exporter": "python",
   "pygments_lexer": "ipython3",
   "version": "3.11.12"
  }
 },
 "nbformat": 4,
 "nbformat_minor": 4
}
