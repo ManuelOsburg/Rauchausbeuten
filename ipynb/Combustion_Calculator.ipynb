{
 "cells": [
  {
   "cell_type": "markdown",
   "metadata": {},
   "source": [
    "# Combustion Calculator\n",
    "\n",
    "source: https://support.thunderheadeng.com/tutorials/pyrosim/combustion-calculator/"
   ]
  },
  {
   "cell_type": "code",
   "execution_count": 1,
   "metadata": {},
   "outputs": [],
   "source": [
    "import sys\n",
    "import re\n",
    "import numpy as np"
   ]
  },
  {
   "cell_type": "markdown",
   "metadata": {},
   "source": [
    "$C_x H_y N_v Cl_w + v_{O_2} O_2 \\xrightarrow[]{} v_{CO_2} CO_2 + v_{H_2O} H_2O + v_{CO} CO + v_S \\mathrm{Soot} + v_{HCN} HCN + v_{N_2} N_2 + v_{HCl} HCl$"
   ]
  },
  {
   "cell_type": "markdown",
   "metadata": {},
   "source": [
    "## values"
   ]
  },
  {
   "cell_type": "code",
   "execution_count": 2,
   "metadata": {},
   "outputs": [],
   "source": [
    "fuel_name = 'PVC'\n",
    "fuel_formula = \"C2H3Cl\"\n",
    "\n",
    "# PVC: C2H3Cl, Y_CO =0.063, Y_S = 0.172\n",
    "\n",
    "# components of products and Soot \n",
    "inYCO_    = 0.063 # input_Y_CO\n",
    "inYHCN_   = 0.000 # Hyd Cyanide \n",
    "inYS_     = 0.172 # soot yield\n",
    "inXH_     = 0.0   # hydrogen atomic fraction in soot"
   ]
  },
  {
   "cell_type": "code",
   "execution_count": 3,
   "metadata": {},
   "outputs": [],
   "source": [
    "# air composition\n",
    "inO2_  = 1.53 # 0.2075588 # Volume fraction\n",
    "inN2_  = 5.76 # 0.7825727 # Volume fraction\n",
    "inH2O_ = 0.0 # 0.009482037 # Volume fraction\n",
    "inCO2_ = 0.0 # 0.0003864118 # Volume fraction\n",
    "inCO_  = 0 \n",
    "inS_   = 0"
   ]
  },
  {
   "cell_type": "code",
   "execution_count": 4,
   "metadata": {},
   "outputs": [],
   "source": [
    "#  ==========================\n",
    "#  = Parse chemical formula =\n",
    "#  ==========================\n",
    "\n",
    "# Standardwerte für Atome\n",
    "elements = {'C': 0, 'H': 0, 'O': 0, 'N': 0, 'Cl': 0}\n",
    "\n",
    "# Suche nach Element-Symbol + optionaler Zahl\n",
    "matches = re.findall(r'(Cl|C|H|O|N)(\\d*\\.?\\d*)', fuel_formula, re.IGNORECASE)\n",
    "\n",
    "for elem, count in matches:\n",
    "    count = float(count) if count else 1\n",
    "    elem = elem.capitalize()\n",
    "    if elem in elements:\n",
    "        elements[elem] += count\n",
    "\n",
    "# Convert all atom numbers to floats\n",
    "C = float(elements['C'])\n",
    "H = float(elements['H'])\n",
    "O = float(elements['O'])\n",
    "N = float(elements['N'])\n",
    "Cl = float(elements['Cl'])\n",
    "\n",
    "# Throw error if formula does not include C or H\n",
    "if ((C == 0) or (H == 0)):\n",
    "    print(\"C and H must be included in the fuel\")\n",
    "    sys.exit()"
   ]
  },
  {
   "cell_type": "code",
   "execution_count": 5,
   "metadata": {},
   "outputs": [
    {
     "name": "stdout",
     "output_type": "stream",
     "text": [
      "2.0 3.0 0.0 0.0 1.0\n"
     ]
    }
   ],
   "source": [
    "print(C,H,O,N,Cl)"
   ]
  },
  {
   "cell_type": "markdown",
   "metadata": {},
   "source": [
    "## Weights (g/mol)"
   ]
  },
  {
   "cell_type": "code",
   "execution_count": 6,
   "metadata": {},
   "outputs": [],
   "source": [
    "# component input\n",
    "inX_ = C # Carbon\n",
    "inY_ = H # Hydrogen\n",
    "inZ_ = O # Oxygen\n",
    "inV_ = N # Nitrogen\n",
    "inW_ = Cl # Chlorine"
   ]
  },
  {
   "cell_type": "code",
   "execution_count": 62,
   "metadata": {},
   "outputs": [],
   "source": [
    "# Molecular weights of C, H, O, N, Cl in g/mol\n",
    "wC_  = 12.0107 # Carbon\n",
    "wH_  = 1.00794 # Hydrogen\n",
    "wO_  = 15.9994 # Oxygen\n",
    "wN_  = 14.0067 # Nitrogen\n",
    "wCl_ = 36.46094 # Chlorine\n",
    "wO2_ = 2 * wO_\n",
    "wCO2_ = wC_ + 2 * wO_\n",
    "wH2O_ = 2 * wH_ + wO_\n",
    "wCO_  = wC_ + wO_\n",
    "wS_   = inXH_ * wH_ + (1 - inXH_) * wC_\n",
    "wN2_  = 2 * wN_\n",
    "wHCN_ = wH_ + wC_ + wN_ \n",
    "wHCl_ = wH_ + wCl_\n",
    "# molecular weight of fuel\n",
    "wF_   = inX_ * wC_ + inY_ * wH_ + inZ_ * wO_ + inV_ * wN_ + inW_ * wCl_"
   ]
  },
  {
   "cell_type": "code",
   "execution_count": 65,
   "metadata": {},
   "outputs": [
    {
     "name": "stdout",
     "output_type": "stream",
     "text": [
      "2.0 12.0107 3.0 1.00794 0.0 15.9994 0.0 14.0067 1.0 36.46094\n"
     ]
    }
   ],
   "source": [
    "print(inX_ , wC_ , inY_ , wH_ , inZ_ , wO_ , inV_ , wN_ , inW_ , wCl_)"
   ]
  },
  {
   "cell_type": "code",
   "execution_count": 64,
   "metadata": {},
   "outputs": [
    {
     "name": "stdout",
     "output_type": "stream",
     "text": [
      "C:\t 12.0107 g/mol\n",
      "H:\t 1.00794 g/mol\n",
      "O:\t 15.9994 g/mol\tO_2:\t31.9988 g/mol\n",
      "N:\t 14.0067 g/mol\tN_2:\t28.0134 g/mol\n",
      "Cl:\t 36.46094 g/mol\n",
      "--\n",
      "CO:\t 28.0101 g/mol\n",
      "CO2:\t 44.0095 g/mol\n",
      "H2O:\t 18.01528 g/mol\n",
      "HCN:\t 27.02534 g/mol\n",
      "HCl:\t 37.46888 g/mol\n",
      "Soot:\t 12.0107 g/mol\n",
      "--\n",
      "wF (PVC,C2H3Cl):\t63.50616 g/mol\n"
     ]
    }
   ],
   "source": [
    "print(f'C:\\t {wC_} g/mol')\n",
    "print(f'H:\\t {wH_} g/mol')\n",
    "print(f'O:\\t {wO_} g/mol\\tO_2:\\t{wO2_} g/mol')\n",
    "print(f'N:\\t {wN_} g/mol\\tN_2:\\t{wN2_} g/mol')\n",
    "print(f'Cl:\\t {wCl_} g/mol')\n",
    "print('--')\n",
    "print(f'CO:\\t {wCO_} g/mol')\n",
    "print(f'CO2:\\t {wCO2_} g/mol')\n",
    "print(f'H2O:\\t {wH2O_} g/mol')\n",
    "print(f'HCN:\\t {wHCN_} g/mol')\n",
    "print(f'HCl:\\t {wHCl_} g/mol')\n",
    "print(f'Soot:\\t {wS_} g/mol')\n",
    "print('--')\n",
    "print(f'wF ({fuel_name},{fuel_formula}):\\t{wF_} g/mol')"
   ]
  },
  {
   "cell_type": "code",
   "execution_count": 66,
   "metadata": {},
   "outputs": [
    {
     "name": "stdout",
     "output_type": "stream",
     "text": [
      "Species\tVol Fraction\tVol Norm\tMass Fraction\n",
      "O2\t1.53\t0.20987654320987656\t0.23278455170090584\n",
      "N2\t5.76\t0.7901234567901234\t0.7672154482990942\n",
      "H2O\t0.0\t0.0\t0.0\n",
      "CO2\t0.0\t0.0\t0.0\n",
      "------------\n",
      "check\t\t1.0\t1.0\n"
     ]
    }
   ],
   "source": [
    "# Air Composition\n",
    "## Vol Norm\n",
    "airVolO2_ = inO2_ / (inO2_ + inN2_ + inH2O_ + inCO2_)\n",
    "airVolN2_ = inN2_ / (inO2_ + inN2_ + inH2O_ + inCO2_)\n",
    "airVolH2O_ = inH2O_ / (inO2_ + inN2_ + inH2O_ + inCO2_)\n",
    "airVolCO2_ = inCO2_ / (inO2_ + inN2_ + inH2O_ + inCO2_)\n",
    "airVolNorm_check = airVolO2_ + airVolN2_ + airVolH2O_ + airVolCO2_\n",
    "\n",
    "airMassO2_  = airVolO2_ * wO2_ / (airVolO2_ * wO2_ + airVolN2_ * wN2_ + airVolH2O_ * wH2O_ + airVolCO2_ * wCO2_)\n",
    "airMassN2_  = airVolN2_ * wN2_ / (airVolO2_ * wO2_ + airVolN2_ * wN2_ + airVolH2O_ * wH2O_ + airVolCO2_ * wCO2_)\n",
    "airMassH2O_ = airVolH2O_ * wH2O_ / (airVolO2_ * wO2_ + airVolN2_ * wN2_ + airVolH2O_ * wH2O_ + airVolCO2_ * wCO2_)\n",
    "airMassCO2_ = airVolCO2_ * wCO2_ / (airVolO2_ * wO2_ + airVolN2_ * wN2_ + airVolH2O_ * wH2O_ + airVolCO2_ * wCO2_)\n",
    "airMass_check = airMassO2_ + airMassN2_ + airMassH2O_ + airMassCO2_\n",
    "\n",
    "## Vol Fraction\n",
    "print('Species\\tVol Fraction\\tVol Norm\\tMass Fraction')\n",
    "print(f'O2\\t{inO2_}\\t{airVolO2_}\\t{airMassO2_}')\n",
    "print(f'N2\\t{inN2_}\\t{airVolN2_}\\t{airMassN2_}')\n",
    "print(f'H2O\\t{inH2O_}\\t{airVolH2O_}\\t{airMassH2O_}')\n",
    "print(f'CO2\\t{inCO2_}\\t{airVolCO2_}\\t{airMassCO2_}')\n",
    "print('------------')\n",
    "print(f'check\\t\\t{airVolNorm_check}\\t{airMass_check}')"
   ]
  },
  {
   "cell_type": "code",
   "execution_count": 67,
   "metadata": {},
   "outputs": [],
   "source": [
    "# Stoichiometric Coeff\n",
    "nuS_ = wF_ / wS_ * inYS_\n",
    "\n",
    "nuCO_ = wF_ / wCO_ * inYCO_\n",
    "\n",
    "nuHCN_ = wF_ / wHCN_ * inYHCN_"
   ]
  },
  {
   "cell_type": "code",
   "execution_count": 68,
   "metadata": {},
   "outputs": [],
   "source": [
    "# HRR input\n",
    "release_ = 13100 # Release per Unit O2 - EPUMO2\n",
    "hrr_ = 500 # Peak HRR wanted in kW"
   ]
  },
  {
   "cell_type": "code",
   "execution_count": 69,
   "metadata": {},
   "outputs": [],
   "source": [
    "matrix = np.array([[1,0,0,0,0],\n",
    "                  [0,2,0,0,1],\n",
    "                  [2,1,0,-2,0],\n",
    "                  [0,0,2,0,0],\n",
    "                  [0,0,0,0,1]], dtype=float)"
   ]
  },
  {
   "cell_type": "code",
   "execution_count": 70,
   "metadata": {},
   "outputs": [],
   "source": [
    "RHS = np.array([[inX_ - nuCO_ - nuS_ * (1 - inXH_) - nuHCN_],\n",
    "                [inY_ - nuS_ * inXH_ - nuHCN_],\n",
    "                [inZ_ - nuCO_],\n",
    "                [inV_ - nuHCN_],\n",
    "                [inW_]], dtype=float)"
   ]
  },
  {
   "cell_type": "code",
   "execution_count": 71,
   "metadata": {},
   "outputs": [],
   "source": [
    "inverse_matrix = np.linalg.inv(matrix)"
   ]
  },
  {
   "cell_type": "code",
   "execution_count": 72,
   "metadata": {},
   "outputs": [],
   "source": [
    "solution = np.matmul(inverse_matrix, RHS)"
   ]
  },
  {
   "cell_type": "code",
   "execution_count": 73,
   "metadata": {},
   "outputs": [
    {
     "data": {
      "text/plain": [
       "array([[0.94771862],\n",
       "       [1.        ],\n",
       "       [0.        ],\n",
       "       [1.51913729],\n",
       "       [1.        ]])"
      ]
     },
     "execution_count": 73,
     "metadata": {},
     "output_type": "execute_result"
    }
   ],
   "source": [
    "solution"
   ]
  },
  {
   "cell_type": "code",
   "execution_count": 74,
   "metadata": {},
   "outputs": [],
   "source": [
    "nuCO2_ = solution[0].item()\n",
    "nuH2O_ = solution[1].item()\n",
    "nuN2_  = solution[2].item()\n",
    "nuO2_  = solution[3].item()\n",
    "nuHCl_ = solution[4].item()"
   ]
  },
  {
   "cell_type": "code",
   "execution_count": 75,
   "metadata": {},
   "outputs": [],
   "source": [
    "# balances chemical equation\n",
    "# C1 * Fuel + C2 * Air -> C3 * Products\n",
    "\n",
    "_c1_ = 1 # Fuel\n",
    "_c2_ = nuO2_ / airVolO2_"
   ]
  },
  {
   "cell_type": "code",
   "execution_count": 76,
   "metadata": {},
   "outputs": [],
   "source": [
    "# Product Coeff with Air\n",
    "prodHCl_  = nuHCl_\n",
    "prodCO2_  = nuCO2_ + _c2_ * airVolCO2_\n",
    "prodH2O_  = nuH2O_ + _c2_ * airVolH2O_\n",
    "prodCO_   = nuCO_\n",
    "prodSOOT_ = nuS_\n",
    "prodHCN_  = nuHCN_\n",
    "prodN2_   = nuN2_ + _c2_ * airVolN2_\n",
    "\n",
    "sumProd_ = prodHCl_ + prodCO2_ + prodH2O_ + prodCO_ + prodSOOT_ + prodHCN_ + prodN2_\n",
    "\n",
    "prodHClnorm_  = prodHCl_ / sumProd_\n",
    "prodCO2norm_  = prodCO2_ / sumProd_\n",
    "prodH2Onorm_  = prodH2O_ / sumProd_\n",
    "prodCOnorm_   = prodCO_ / sumProd_\n",
    "prodSOOTnorm_ = prodSOOT_ / sumProd_\n",
    "prodHCNnorm_  = prodHCN_ / sumProd_\n",
    "prodN2norm_   = prodN2_ / sumProd_"
   ]
  },
  {
   "cell_type": "code",
   "execution_count": 77,
   "metadata": {},
   "outputs": [
    {
     "name": "stdout",
     "output_type": "stream",
     "text": [
      "1 * Fuel + 7.238242394480483 * Air -> 9.719105101811738 * Products\n"
     ]
    }
   ],
   "source": [
    "# balanced chemical equation\n",
    "# C1 * Fuel + C2 * Air -> C3 * Products\n",
    "_c3_ = sumProd_\n",
    "print('{0} * Fuel + {1} * Air -> {2} * Products'.format(_c1_, _c2_, _c3_))"
   ]
  },
  {
   "cell_type": "code",
   "execution_count": 78,
   "metadata": {},
   "outputs": [],
   "source": [
    "# balanced chemical equation\n",
    "## Fuel\n",
    "C1 = 1\n",
    "C1_C = inW_\n",
    "C1_H = inX_\n",
    "C1_O = inY_\n",
    "C1_N = inV_\n",
    "C1_Cl = inW_\n",
    "\n",
    "## Air\n",
    "C2     = nuO2_ / airVolO2_\n",
    "C2_O2  = airVolO2_\n",
    "C2_N2  = airVolN2_\n",
    "C2_H2O = airVolH2O_\n",
    "C2_CO2 = airVolCO2_\n",
    "\n",
    "## Product\n",
    "C3      = sumProd_\n",
    "C3_HCl  = prodHClnorm_\n",
    "C3_CO2  = prodCO2norm_\n",
    "C3_H2O  = prodH2Onorm_\n",
    "C3_CO   = prodCOnorm_ \n",
    "C3_SOOT = prodSOOTnorm_\n",
    "C3_HCN  = prodHCNnorm_ \n",
    "C3_N2   = prodN2norm_"
   ]
  },
  {
   "cell_type": "code",
   "execution_count": 79,
   "metadata": {},
   "outputs": [
    {
     "name": "stdout",
     "output_type": "stream",
     "text": [
      "Air = 7.238242394480483 * ( 0.20987654320987656*O2 + 0.7901234567901234*N2 + 0.0*H2O + 0.0*CO2)\n"
     ]
    }
   ],
   "source": [
    "print('Air = {0} * ( {1}*O2 + {2}*N2 + {3}*H2O + {4}*CO2)'.format(C2, C2_O2, C2_N2, C2_H2O, C2_CO2))"
   ]
  },
  {
   "cell_type": "code",
   "execution_count": 94,
   "metadata": {},
   "outputs": [
    {
     "name": "stdout",
     "output_type": "stream",
     "text": [
      "Products = 9.719105101811738 * (0.10289013129548213*HCl + 0.09751089369596273*CO2 + 0.10289013129548213*H2O + 0.01469655230969291*CO + 0.09357281658530861*SOOT + 0.0*HCN + 0.5884394748180716*N2)\n"
     ]
    }
   ],
   "source": [
    "print('Products = {0} * ({1}*HCl + {2}*CO2 + {3}*H2O + {4}*CO + {5}*SOOT + {6}*HCN + {7}*N2)'.format(\n",
    "    C3, C3_HCl, C3_CO2, C3_H2O, C3_CO, C3_SOOT, C3_HCN, C3_N2))"
   ]
  },
  {
   "cell_type": "code",
   "execution_count": 95,
   "metadata": {},
   "outputs": [
    {
     "name": "stdout",
     "output_type": "stream",
     "text": [
      "Calculated Stoichiometric Coefficients\n",
      "\t nu_{O_2} \t 1.5191372926687434\n",
      "\t nu_{CO_2} \t 0.9477186244026535\n",
      "\t nu_{H2O} \t 1.0\n",
      "\t nu_{CO} \t 0.14283733653217945\n",
      "\t nu_{SOOT} \t 0.9094440390651669\n",
      "\t nu_{N} \t 0.0\n",
      "\t nu_{HCN} \t 0.0\n",
      "\t nu_{HCl} \t 1.0\n"
     ]
    }
   ],
   "source": [
    "# calculated stoichiometric coefficients\n",
    "print('Calculated Stoichiometric Coefficients')\n",
    "print('\\t nu_{O_2} \\t', nuO2_)\n",
    "print('\\t nu_{CO_2} \\t', nuCO2_)\n",
    "print('\\t nu_{H2O} \\t', nuH2O_)\n",
    "print('\\t nu_{CO} \\t', nuCO_)\n",
    "print('\\t nu_{SOOT} \\t', nuS_)\n",
    "print('\\t nu_{N} \\t', nuN2_)\n",
    "print('\\t nu_{HCN} \\t', nuHCN_)\n",
    "print('\\t nu_{HCl} \\t', nuHCl_)"
   ]
  },
  {
   "cell_type": "code",
   "execution_count": 96,
   "metadata": {},
   "outputs": [],
   "source": [
    "# Yields (mass product / mass fuel) - FDS equation, No Air)\n",
    "yO2_  = nuO2_ * wO2_ / wF_\n",
    "yHCl_ = nuHCl_ * wHCl_ / wF_\n",
    "yCO2_ = nuCO2_ * wCO2_ / wF_\n",
    "yH2O_ = nuH2O_ * wH2O_ / wF_\n",
    "yCO_  = nuCO_ * wCO_ / wF_\n",
    "yS_   = nuS_ * wS_ / wF_\n",
    "yHCN_ = nuHCN_ * wHCN_ / wF_\n",
    "yN2_  = nuN2_ * wN2_ / wF_"
   ]
  },
  {
   "cell_type": "code",
   "execution_count": 97,
   "metadata": {},
   "outputs": [
    {
     "name": "stdout",
     "output_type": "stream",
     "text": [
      "Yields (mass product / mass fuel) - FDS equation, No Air\n",
      "\t Y_{O_2} \t 0.7654465393695443\n",
      "\t Y_{HCl} \t 0.5900038673413729\n",
      "\t Y_{CO_2} \t 0.6567649941462148\n",
      "\t Y_{H2O} \t 0.28367767788195664\n",
      "\t Y_{CO} \t 0.063\n",
      "\t Y_{SOOT} \t 0.17200000000000001\n",
      "\t Y_{HCN} \t 0.0\n",
      "\t Y_{N2} \t 0.0\n"
     ]
    }
   ],
   "source": [
    "# calculated stoichiometric coefficients\n",
    "print('Yields (mass product / mass fuel) - FDS equation, No Air')\n",
    "print('\\t Y_{O_2} \\t', yO2_)\n",
    "print('\\t Y_{HCl} \\t', yHCl_)\n",
    "print('\\t Y_{CO_2} \\t', yCO2_)\n",
    "print('\\t Y_{H2O} \\t', yH2O_)\n",
    "print('\\t Y_{CO} \\t', yCO_)\n",
    "print('\\t Y_{SOOT} \\t', yS_)\n",
    "print('\\t Y_{HCN} \\t', yHCN_)\n",
    "print('\\t Y_{N2} \\t', yN2_)"
   ]
  },
  {
   "cell_type": "code",
   "execution_count": 98,
   "metadata": {},
   "outputs": [
    {
     "name": "stdout",
     "output_type": "stream",
     "text": [
      "HoC:\t 10027.34966574103\n",
      "dot_m:\t 0.049863624653309575\n"
     ]
    }
   ],
   "source": [
    "# Calculated Fuel Parameters\n",
    "hoc_ = release_ * yO2_ # Heat of combustion in kJ/kg\n",
    "m_ = hrr_ / hoc_ # flow at Peak HRR in kg/s\n",
    "\n",
    "print('HoC:\\t',hoc_)\n",
    "print('dot_m:\\t',m_) "
   ]
  },
  {
   "cell_type": "code",
   "execution_count": 99,
   "metadata": {},
   "outputs": [],
   "source": [
    "# combustion process for 1 kg fuel\n",
    "\n",
    "FuelAir_ = 0 # kg\n",
    "N2Air_ = airMassN2_ * yO2_ / airMassO2_\n",
    "O2Air_ = airMassO2_ * yO2_ / airMassO2_\n",
    "CO2Air_ = airMassCO2_ * yO2_ / airMassO2_\n",
    "COAir_ = 0\n",
    "H2OAir_ = airMassH2O_ * yO2_ / airMassO2_\n",
    "SOOTAir_ = 0\n",
    "HCNAir_ = 0\n",
    "HClAir_ = 0\n",
    "\n",
    "mass_air_ = FuelAir_ + N2Air_ + O2Air_ + CO2Air_ + COAir_ + H2OAir_ + SOOTAir_ + HCNAir_ + HClAir_\n",
    "\n",
    "FuelFuel_ = 1\n",
    "N2Fuel_ = 0\n",
    "O2Fuel_ = 0\n",
    "CO2Fuel_ = 0\n",
    "COFuel_ = 0\n",
    "H2OFuel_ = 0\n",
    "SOOTFuel_ = 0\n",
    "HCNFuel_ = 0\n",
    "HClFuel_ = 0\n",
    "\n",
    "mass_fuel_ = FuelFuel_ + N2Fuel_ + O2Fuel_ + CO2Fuel_ + COFuel_ + H2OFuel_ + SOOTFuel_ + HCNFuel_ + HClFuel_\n",
    "\n",
    "FuelProd_ = 0\n",
    "N2Prod_   = yN2_ + N2Air_\n",
    "O2Prod_   = 0 \n",
    "CO2Prod_  = yCO2_ + CO2Air_ \n",
    "COProd_   = yCO_\n",
    "H2OProd_  = yH2O_ + H2OAir_\n",
    "SOOTProd_ = yS_\n",
    "HCNProd_  = yHCN_\n",
    "HClProd_  = yHCl_\n",
    "\n",
    "mass_product_ = FuelProd_ + N2Prod_ + O2Prod_ + CO2Prod_ + COProd_ + H2OProd_ + SOOTProd_ + HCNProd_ + HClProd_\n",
    "\n",
    "\n",
    "FuelAirMassFrac_ = FuelAir_ / mass_air_\n",
    "N2AirMassFrac_   = N2Air_ / mass_air_\n",
    "O2AirMassFrac_   = O2Air_ / mass_air_\n",
    "CO2AirMassFrac_  = CO2Air_ / mass_air_\n",
    "COAirMassFrac_   = COAir_ / mass_air_\n",
    "H2OAirMassFrac_  = H2OAir_ / mass_air_\n",
    "SOOTAirMassFrac_ = SOOTAir_ / mass_air_\n",
    "HCNAirMassFrac_  = HCNAir_ / mass_air_\n",
    "HClAirMassFrac_  = HClAir_ / mass_air_\n",
    "\n",
    "FuelFuelMassFrac_ = FuelFuel_ / mass_fuel_\n",
    "N2FuelMassFrac_   = N2Fuel_ / mass_fuel_\n",
    "O2FuelMassFrac_   = O2Fuel_ / mass_fuel_\n",
    "CO2FuelMassFrac_  = CO2Fuel_ / mass_fuel_\n",
    "COFuelMassFrac_   = COFuel_ / mass_fuel_\n",
    "H2OFuelMassFrac_  = H2OFuel_ / mass_fuel_\n",
    "SOOTFuelMassFrac_ = SOOTFuel_ / mass_fuel_\n",
    "HCNFuelMassFrac_  = HCNFuel_ / mass_fuel_\n",
    "HClFuelMassFrac_  = HClFuel_ / mass_fuel_\n",
    "\n",
    "FuelProdMassFrac_ = FuelProd_ / mass_product_\n",
    "N2ProdMassFrac_   = N2Prod_ / mass_product_\n",
    "O2ProdMassFrac_   = O2Prod_ / mass_product_\n",
    "CO2ProdMassFrac_  = CO2Prod_ / mass_product_\n",
    "COProdMassFrac_   = COProd_ / mass_product_\n",
    "H2OProdMassFrac_  = H2OProd_ / mass_product_\n",
    "SOOTProdMassFrac_ = SOOTProd_ / mass_product_\n",
    "HCNProdMassFrac_  = HCNProd_ / mass_product_\n",
    "HClProdMassFrac_  = HClProd_ / mass_product_"
   ]
  },
  {
   "cell_type": "code",
   "execution_count": 100,
   "metadata": {},
   "outputs": [],
   "source": [
    "# Volume Fraction of Products\n",
    "FuelProdVolFrac_  = FuelProdMassFrac_ / wF_\n",
    "N2ProdVolFrac_   = N2ProdMassFrac_ / wN2_\n",
    "O2ProdVolFrac_   = O2ProdMassFrac_ / wO2_\n",
    "CO2ProdVolFrac_  = CO2ProdMassFrac_ / wCO2_\n",
    "COProdVolFrac_   = COProdMassFrac_ / wCO_\n",
    "H2OProdVolFrac_  = H2OProdMassFrac_ / wH2O_\n",
    "SOOTProdVolFrac_ = SOOTProdMassFrac_ / wS_\n",
    "HCNProdVolFrac_  = HCNProdMassFrac_ / wHCN_\n",
    "HClProdVolFrac_  = HClProdMassFrac_ / wHCl_"
   ]
  },
  {
   "cell_type": "code",
   "execution_count": 101,
   "metadata": {},
   "outputs": [
    {
     "name": "stdout",
     "output_type": "stream",
     "text": [
      "Mass Fraction of Products\n",
      "Fuel\t 0.0\n",
      "N2\t 0.5883030643952855\n",
      "O2\t 0.0\n",
      "CO2\t 0.15315566315534124\n",
      "CO\t 0.01469141453150957\n",
      "H2O\t 0.06615279935079157\n",
      "SOOT\t 0.04010989364158169\n",
      "HCN\t 0.0\n",
      "HCl\t 0.13758716492549034\n"
     ]
    }
   ],
   "source": [
    "# Volume Fraction of Products\n",
    "print('Mass Fraction of Products')\n",
    "print('Fuel\\t', FuelProdMassFrac_) \n",
    "print('N2\\t', N2ProdMassFrac_)\n",
    "print('O2\\t', O2ProdMassFrac_)\n",
    "print('CO2\\t', CO2ProdMassFrac_)\n",
    "print('CO\\t', COProdMassFrac_)\n",
    "print('H2O\\t', H2OProdMassFrac_)\n",
    "print('SOOT\\t',SOOTProdMassFrac_)\n",
    "print('HCN\\t',HCNProdMassFrac_)\n",
    "print('HCl\\t', HClProdMassFrac_)"
   ]
  },
  {
   "cell_type": "code",
   "execution_count": 102,
   "metadata": {},
   "outputs": [
    {
     "name": "stdout",
     "output_type": "stream",
     "text": [
      "Volume Fraction of Products\n",
      "Fuel\t 0.0\n",
      "N2\t 0.021000773358295866\n",
      "O2\t 0.0\n",
      "CO2\t 0.003480059149850401\n",
      "CO\t 0.0005245041799747081\n",
      "H2O\t 0.0036720383669191694\n",
      "SOOT\t 0.0033395134040132292\n",
      "HCN\t 0.0\n",
      "HCl\t 0.00367203836691917\n"
     ]
    }
   ],
   "source": [
    "# Volume Fraction of Products\n",
    "print('Volume Fraction of Products')\n",
    "print('Fuel\\t', FuelProdVolFrac_) \n",
    "print('N2\\t', N2ProdVolFrac_)\n",
    "print('O2\\t', O2ProdVolFrac_)\n",
    "print('CO2\\t', CO2ProdVolFrac_)\n",
    "print('CO\\t', COProdVolFrac_)\n",
    "print('H2O\\t', H2OProdVolFrac_)\n",
    "print('SOOT\\t',SOOTProdVolFrac_)\n",
    "print('HCN\\t',HCNProdVolFrac_)\n",
    "print('HCl\\t', HClProdVolFrac_)"
   ]
  },
  {
   "cell_type": "markdown",
   "metadata": {},
   "source": [
    "---"
   ]
  },
  {
   "cell_type": "code",
   "execution_count": 103,
   "metadata": {},
   "outputs": [
    {
     "name": "stdout",
     "output_type": "stream",
     "text": [
      "&SPEC ID = 'PVC', FORMULA = 'C2H3Cl'/\n"
     ]
    }
   ],
   "source": [
    "print(\"&SPEC ID = '{0}', FORMULA = '{1}'/\".format(fuel_name, fuel_formula))"
   ]
  },
  {
   "cell_type": "code",
   "execution_count": 104,
   "metadata": {},
   "outputs": [
    {
     "name": "stdout",
     "output_type": "stream",
     "text": [
      "&SPEC ID = 'OXYGEN',\tLUMPED_COMPONENT_ONLY = T /\n",
      "&SPEC ID = 'NITROGEN',\tLUMPED_COMPONENT_ONLY = T /\n",
      "&SPEC ID = 'HYDROGEN CHLORIDE',\tLUMPED_COMPONENT_ONLY = T /\n",
      "&SPEC ID = 'WATER VAPOR',\tLUMPED_COMPONENT_ONLY = T /\n",
      "&SPEC ID = 'CARBON MONOXIDE',\tLUMPED_COMPONENT_ONLY = T /\n",
      "&SPEC ID = 'CARBON DIOXIDE',\tLUMPED_COMPONENT_ONLY = T /\n",
      "&SPEC ID ='SOOT', MASS_EXTINCTION_COEFFICIENT=8700., LUMPED_COMPONENT_ONLY= T /\n"
     ]
    }
   ],
   "source": [
    "print(\"&SPEC ID = 'OXYGEN',\\tLUMPED_COMPONENT_ONLY = T /\")\n",
    "print(\"&SPEC ID = 'NITROGEN',\\tLUMPED_COMPONENT_ONLY = T /\")\n",
    "print(\"&SPEC ID = 'HYDROGEN CHLORIDE',\\tLUMPED_COMPONENT_ONLY = T /\")\n",
    "print(\"&SPEC ID = 'WATER VAPOR',\\tLUMPED_COMPONENT_ONLY = T /\")\n",
    "print(\"&SPEC ID = 'CARBON MONOXIDE',\\tLUMPED_COMPONENT_ONLY = T /\")\n",
    "print(\"&SPEC ID = 'CARBON DIOXIDE',\\tLUMPED_COMPONENT_ONLY = T /\")\n",
    "print(\"&SPEC ID ='SOOT', MASS_EXTINCTION_COEFFICIENT=8700., LUMPED_COMPONENT_ONLY= T /\")"
   ]
  },
  {
   "cell_type": "code",
   "execution_count": 105,
   "metadata": {},
   "outputs": [
    {
     "name": "stdout",
     "output_type": "stream",
     "text": [
      "&SPEC\tID = 'AIR', BACKGROUND = T,\n",
      "\tSPEC_ID(1)='OXYGEN',\tVOLUME_FRACTION(1)=0.20987654,\n",
      "\tSPEC_ID(2)='NITROGEN',\tVOLUME_FRACTION(2)=0.79012346,\n",
      "\tSPEC_ID(3)='WATER VAPOR',\tVOLUME_FRACTION(3)=0.00000000,\n",
      "\tSPEC_ID(4)='CARBON DIOXIDE',\tVOLUME_FRACTION(4)=0.00000000\n",
      "\t/\n"
     ]
    }
   ],
   "source": [
    "print(\"&SPEC\\tID = 'AIR', BACKGROUND = T,\")\n",
    "print(\"\\tSPEC_ID(1)='OXYGEN',\\tVOLUME_FRACTION(1)={0:.8f},\".format(airVolO2_))\n",
    "print(\"\\tSPEC_ID(2)='NITROGEN',\\tVOLUME_FRACTION(2)={0:.8f},\".format(airVolN2_))\n",
    "print(\"\\tSPEC_ID(3)='WATER VAPOR',\\tVOLUME_FRACTION(3)={0:.8f},\".format(airVolH2O_))\n",
    "print(\"\\tSPEC_ID(4)='CARBON DIOXIDE',\\tVOLUME_FRACTION(4)={0:.8f}\".format(airVolCO2_))\n",
    "print(\"\\t/\")"
   ]
  },
  {
   "cell_type": "code",
   "execution_count": 111,
   "metadata": {},
   "outputs": [
    {
     "name": "stdout",
     "output_type": "stream",
     "text": [
      "&SPEC\tID = 'PRODUCTS',\n",
      "\tSPEC_ID(1)='HYDROGEN CHLORIDE',\tVOLUME_FRACTION(1)=0.102890,\n",
      "\tSPEC_ID(2)='WATER VAPOR',\tVOLUME_FRACTION(2)=0.102890,\n",
      "\tSPEC_ID(3)='CARBON MONOXIDE',\tVOLUME_FRACTION(3)=0.014697,\n",
      "\tSPEC_ID(4)='CARBON DIOXIDE',\tVOLUME_FRACTION(4)=0.097511,\n",
      "\tSPEC_ID(5)='HYDROGEN CYANIDE',\tVOLUME_FRACTION(5)=0.000000,\n",
      "\tSPEC_ID(6)='NITROGEN',\tVOLUME_FRACTION(6)=0.588439\n",
      "\tSPEC_ID(7)='SOOT',\tVOLUME_FRACTION(7)=0.093573\n",
      "\t/\n"
     ]
    }
   ],
   "source": [
    "print(\"&SPEC\\tID = 'PRODUCTS',\")\n",
    "print(\"\\tSPEC_ID(1)='HYDROGEN CHLORIDE',\\tVOLUME_FRACTION(1)={0:.6f},\".format(C3_HCl))\n",
    "print(\"\\tSPEC_ID(2)='WATER VAPOR',\\tVOLUME_FRACTION(2)={0:.6f},\".format(C3_H2O))\n",
    "print(\"\\tSPEC_ID(3)='CARBON MONOXIDE',\\tVOLUME_FRACTION(3)={0:.6f},\".format(C3_CO))\n",
    "print(\"\\tSPEC_ID(4)='CARBON DIOXIDE',\\tVOLUME_FRACTION(4)={0:.6f},\".format(C3_CO2))\n",
    "print(\"\\tSPEC_ID(5)='HYDROGEN CYANIDE',\\tVOLUME_FRACTION(5)={0:.6f},\".format(C3_HCN))\n",
    "print(\"\\tSPEC_ID(6)='NITROGEN',\\tVOLUME_FRACTION(6)={0:.6f}\".format(C3_N2))\n",
    "print(\"\\tSPEC_ID(7)='SOOT',\\tVOLUME_FRACTION(7)={0:.6f}\".format(C3_SOOT))\n",
    "print(\"\\t/\")"
   ]
  },
  {
   "cell_type": "code",
   "execution_count": 107,
   "metadata": {},
   "outputs": [
    {
     "name": "stdout",
     "output_type": "stream",
     "text": [
      "&REAC FUEL='PVC', SPEC_ID_NU ='PVC','AIR','PRODUCTS',\n",
      "NU=-1.000000,-7.238242,9.719105, HEAT_OF_COMBUSTION=10027.35 /\n"
     ]
    }
   ],
   "source": [
    "print(\"&REAC FUEL='{0}', SPEC_ID_NU ='{0}','AIR','PRODUCTS',\".format(fuel_name))\n",
    "print(\"NU=-{0:.6f},-{1:.6f},{2:.6f}, HEAT_OF_COMBUSTION={3:.2f} /\".format(_c1_,_c2_,_c3_,hoc_))"
   ]
  }
 ],
 "metadata": {
  "kernelspec": {
   "display_name": "Python 3 (ipykernel)",
   "language": "python",
   "name": "python3"
  },
  "language_info": {
   "codemirror_mode": {
    "name": "ipython",
    "version": 3
   },
   "file_extension": ".py",
   "mimetype": "text/x-python",
   "name": "python",
   "nbconvert_exporter": "python",
   "pygments_lexer": "ipython3",
   "version": "3.11.12"
  }
 },
 "nbformat": 4,
 "nbformat_minor": 4
}
